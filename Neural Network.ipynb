{
 "cells": [
  {
   "cell_type": "markdown",
   "metadata": {},
   "source": [
    "# LeView\n",
    "\n",
    "The first step is to read the dataset and choose an activation function. We'll use a sigmoid."
   ]
  },
  {
   "cell_type": "code",
   "execution_count": 45,
   "metadata": {},
   "outputs": [
    {
     "data": {
      "image/png": "[encoded data removed]",
      "text/plain": [
       "<Figure size 432x288 with 1 Axes>"
      ]
     },
     "metadata": {
      "needs_background": "light"
     },
     "output_type": "display_data"
    }
   ],
   "source": [
    "from mnist import MNIST\n",
    "import numpy as np\n",
    "import random\n",
    "import matplotlib.pyplot as plt\n",
    "from mpl_toolkits.mplot3d import Axes3D\n",
    "\n",
    "mndata = MNIST(\"Dataset\")\n",
    "images, label = mndata.load_training()\n",
    "\n",
    "\n",
    "sigma = lambda x: 1/(1+np.exp(-x))\n",
    "\n",
    "epsilon = lambda a, b: (a-b)**2 # Error function\n",
    "\n",
    "X = np.arange(-5, 5, 0.1)\n",
    "Y = sigma(X)\n",
    "\n",
    "plt.plot(X, Y)\n",
    "plt.grid()\n",
    "plt.show()"
   ]
  },
  {
   "cell_type": "code",
   "execution_count": 106,
   "metadata": {},
   "outputs": [],
   "source": [
    "class neural_net:\n",
    "    \n",
    "    def __init__(self, structure):\n",
    "        '''\n",
    "        \n",
    "        structure: [input_dimension, hl_1_dimension, ..., hl_n_dimension, out_dimension]\n",
    "        \n",
    "        \n",
    "        '''\n",
    "        self.structure = structure\n",
    "        self.weights = [np.random.rand(structure[i+1], structure[i]) for i in range(0, len(structure)-1)]\n",
    "        self.biases = [np.random.rand(structure[i]) for i in range(1, len(structure))]\n",
    "        \n",
    "    def compute(self, input_data):\n",
    "        \n",
    "        s = self.structure     \n",
    "        W = self.weights\n",
    "        B = self.biases\n",
    "        \n",
    "        for L in range(0, len(s)-1): # For each layer\n",
    "                        \n",
    "            out = sigma(W[L].dot(input_data)+B[L])\n",
    "            input_data = out\n",
    "              \n",
    "        return input_data\n",
    "    \n",
    "    \n",
    "    def train(self, data, label):\n",
    "        \n",
    "        error = None\n",
    "        gradError = None\n",
    "        for i in range(len(data)):\n",
    "            stake = self.compute(data[i])\n",
    "            error = epsilon(stake, label[i])\n",
    "            gradError = np.gradient(-error) # We need to decrease the value of this function, thus going on the opposite of the gradient.\n",
    "            \n",
    "            \n",
    "            \n",
    "        \n",
    "        print(\"Error = \", error[0])\n",
    "        print(\"-GradE = \", gradError[0])\n"
   ]
  },
  {
   "cell_type": "markdown",
   "metadata": {},
   "source": [
    "Training algorithm implementation tests: with input [x, y], output is [-x, -y]"
   ]
  },
  {
   "cell_type": "code",
   "execution_count": 105,
   "metadata": {},
   "outputs": [
    {
     "name": "stdout",
     "output_type": "stream",
     "text": [
      "Error =  [2116.         1155.99652537]\n",
      "-GradE =  [[1275.          66.9998978]\n",
      " [1275.          66.9998978]]\n"
     ]
    }
   ],
   "source": [
    "def f(a):\n",
    "    return (-a[0], -a[1])\n",
    "\n",
    "perceptron = neural_net([2, 2])\n",
    "\n",
    "data = [(np.random.randint(-100, 100, size=2)) for i in range(2)]\n",
    "label = [f(data) for i in range(len(data))]\n",
    "\n",
    "perceptron.train(data, label)"
   ]
  },
  {
   "cell_type": "code",
   "execution_count": null,
   "metadata": {},
   "outputs": [],
   "source": []
  },
  {
   "cell_type": "code",
   "execution_count": null,
   "metadata": {},
   "outputs": [],
   "source": []
  }
 ],
 "metadata": {
  "kernelspec": {
   "display_name": "Python 3",
   "language": "python",
   "name": "python3"
  },
  "language_info": {
   "codemirror_mode": {
    "name": "ipython",
    "version": 3
   },
   "file_extension": ".py",
   "mimetype": "text/x-python",
   "name": "python",
   "nbconvert_exporter": "python",
   "pygments_lexer": "ipython3",
   "version": "3.8.2"
  }
 },
 "nbformat": 4,
 "nbformat_minor": 2
}
