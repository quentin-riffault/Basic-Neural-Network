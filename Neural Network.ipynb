{
 "cells": [
  {
   "cell_type": "markdown",
   "metadata": {},
   "source": [
    "# MNIST Number Recognition\n",
    "\n",
    "The purpose of this project is to recognize hand-written numbers, such as Yann LeCun's LeView did in the 80s.\n",
    "\n",
    "## Data gathering"
   ]
  },
  {
   "cell_type": "code",
   "execution_count": 137,
   "metadata": {},
   "outputs": [],
   "source": [
    "from mnist import MNIST\n",
    "import numpy as np\n",
    "import random\n",
    "\n",
    "mndata = MNIST(\"Dataset\")\n",
    "images, label = mndata.load_training()"
   ]
  },
  {
   "cell_type": "markdown",
   "metadata": {},
   "source": [
    "## Useful functions"
   ]
  },
  {
   "cell_type": "code",
   "execution_count": 173,
   "metadata": {},
   "outputs": [],
   "source": [
    "#Useful functions\n",
    "\n",
    "sigma = lambda x: 1/(1+np.exp(-x)) # Step function\n",
    "error = lambda a, b: (a-b)**2 # Error function\n",
    "\n",
    "def partial(f, var, n, h=1e-3): \n",
    "    \n",
    "    '''\n",
    "    Returns the partial derivative of the f function around variables.\n",
    "    \n",
    "    f: function\n",
    "    var: variables of the function f (it will likely be a matrix, so I had to tweak it a bit) \n",
    "    n: tuple (Weight or Bias (T/F), Layer, coordinates)\n",
    "    h: step \n",
    "    '''\n",
    "    print(var)\n",
    "    \n",
    "    \n",
    "    #varh = np.copy(var)\n",
    "    #varh[n] = varh[n]+h\n",
    "    \n",
    "    #print(varh)\n",
    "    #print(var)\n",
    "    \n",
    "    #return (f(varh)-f(var))/h"
   ]
  },
  {
   "cell_type": "markdown",
   "metadata": {},
   "source": [
    "## Neural Network Architecture"
   ]
  },
  {
   "cell_type": "code",
   "execution_count": 174,
   "metadata": {},
   "outputs": [],
   "source": [
    "class neural_net:\n",
    "    \n",
    "    def __init__(self, structure):\n",
    "        '''\n",
    "        \n",
    "        structure: [input_dimension, hl_1_dimension, ..., hl_n_dimension, out_dimension]\n",
    "        \n",
    "        \n",
    "        '''\n",
    "        self.structure = structure\n",
    "        self.weights = [np.random.rand(structure[i+1], structure[i]) for i in range(0, len(structure)-1)]\n",
    "        self.biases = [np.random.rand(structure[i]) for i in range(1, len(structure))]\n",
    "        \n",
    "    def compute(self, input_data, W, B):\n",
    "        \n",
    "        '''\n",
    "        \n",
    "        Launch a computation with the input data\n",
    "        \n",
    "        input_data: np array of data to compute\n",
    "        W: Weights\n",
    "        B: Biases\n",
    "        \n",
    "        '''\n",
    "        \n",
    "        s = self.structure     \n",
    "        \n",
    "        for L in range(0, len(s)-1): # For each layer\n",
    "                        \n",
    "            out = sigma(W[L].dot(input_data)+B[L])\n",
    "            input_data = out\n",
    "              \n",
    "        return input_data\n",
    "    \n",
    "    def update(self, W=None, B=None):\n",
    "        if W == None:\n",
    "            pass\n",
    "        elif B == None:\n",
    "            pass\n",
    "    \n",
    "    \n",
    "    def train(self, data, label):\n",
    "        \n",
    "        #print(\"Weights: \\n\", self.weights[0], \"\\nBiases: \\n\",  self.biases[0])\n",
    "        \n",
    "        stake = self.compute(data, self.weights, self.biases)\n",
    "        epsilon = error(stake, label)\n",
    "        \n",
    "        print(partial(epsilon, [self.weights, self.biases], 0))"
   ]
  },
  {
   "cell_type": "markdown",
   "metadata": {},
   "source": [
    "## Testing the training algorithm with a simple case\n",
    "\n",
    "The goal is to make a 2x2 neural network \"learn\" the opposite function f: (x,y) -> (-x, -y)"
   ]
  },
  {
   "cell_type": "code",
   "execution_count": 175,
   "metadata": {},
   "outputs": [
    {
     "name": "stdout",
     "output_type": "stream",
     "text": [
      "[[array([[0.27677887, 0.00411381],\n",
      "       [0.36927041, 0.14434305]])], [array([0.6726433 , 0.83045908])]]\n",
      "None\n"
     ]
    }
   ],
   "source": [
    "def f(a):\n",
    "    return (-a[0], -a[1])\n",
    "\n",
    "perceptron = neural_net([2, 2])\n",
    "\n",
    "data = [(np.random.randint(-100, 100, size=2)) for i in range(2)]\n",
    "label = [f(data) for i in range(len(data))]\n",
    "\n",
    "perceptron.train(data, label)"
   ]
  },
  {
   "cell_type": "code",
   "execution_count": null,
   "metadata": {},
   "outputs": [],
   "source": []
  }
 ],
 "metadata": {
  "kernelspec": {
   "display_name": "Python 3",
   "language": "python",
   "name": "python3"
  },
  "language_info": {
   "codemirror_mode": {
    "name": "ipython",
    "version": 3
   },
   "file_extension": ".py",
   "mimetype": "text/x-python",
   "name": "python",
   "nbconvert_exporter": "python",
   "pygments_lexer": "ipython3",
   "version": "3.8.2"
  }
 },
 "nbformat": 4,
 "nbformat_minor": 2
}
